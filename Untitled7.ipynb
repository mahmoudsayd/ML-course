{
 "cells": [
  {
   "cell_type": "code",
   "execution_count": 65,
   "id": "9b3582ba",
   "metadata": {},
   "outputs": [],
   "source": [
    "import pandas as pd\n",
    "import numpy as np\n",
    "import matplotlib.pyplot as plt\n",
    "import seaborn as sns\n",
    "import plotly.express as px\n",
    "from sklearn.model_selection import train_test_split\n",
    "from sklearn.linear_model import LinearRegression\n",
    "from sklearn.metrics import mean_absolute_error\n",
    "from sklearn.preprocessing import StandardScaler\n",
    "from sklearn.decomposition import PCA\n",
    "from sklearn.feature_selection import RFE\n",
    "from sklearn.linear_model import LinearRegression\n",
    "from sklearn.tree import DecisionTreeRegressor\n",
    "from sklearn.ensemble import RandomForestRegressor, GradientBoostingRegressor\n",
    "from sklearn.svm import SVR\n",
    "from sklearn.model_selection import cross_val_score\n",
    "from sklearn.metrics import mean_squared_error\n",
    "from sklearn.metrics import mean_absolute_error, r2_score\n",
    "from sklearn.model_selection import GridSearchCV"
   ]
  },
  {
   "cell_type": "code",
   "execution_count": 66,
   "id": "a121fe22",
   "metadata": {},
   "outputs": [],
   "source": [
    "laptops_data_path = 'laptops.csv'\n",
    "laptops_data = pd.read_csv(laptops_data_path)"
   ]
  },
  {
   "cell_type": "code",
   "execution_count": 67,
   "id": "d64b05a8",
   "metadata": {},
   "outputs": [
    {
     "data": {
      "text/plain": [
       "(1000, 11)"
      ]
     },
     "execution_count": 67,
     "metadata": {},
     "output_type": "execute_result"
    }
   ],
   "source": [
    "laptops_data.shape"
   ]
  },
  {
   "cell_type": "code",
   "execution_count": 68,
   "id": "8e97a977",
   "metadata": {},
   "outputs": [
    {
     "data": {
      "text/html": [
       "<div>\n",
       "<style scoped>\n",
       "    .dataframe tbody tr th:only-of-type {\n",
       "        vertical-align: middle;\n",
       "    }\n",
       "\n",
       "    .dataframe tbody tr th {\n",
       "        vertical-align: top;\n",
       "    }\n",
       "\n",
       "    .dataframe thead th {\n",
       "        text-align: right;\n",
       "    }\n",
       "</style>\n",
       "<table border=\"1\" class=\"dataframe\">\n",
       "  <thead>\n",
       "    <tr style=\"text-align: right;\">\n",
       "      <th></th>\n",
       "      <th>CompanyName</th>\n",
       "      <th>TypeOfLaptop</th>\n",
       "      <th>Inches</th>\n",
       "      <th>ScreenResolution</th>\n",
       "      <th>Cpu</th>\n",
       "      <th>Ram</th>\n",
       "      <th>Memory</th>\n",
       "      <th>Gpu</th>\n",
       "      <th>OpSys</th>\n",
       "      <th>Weight</th>\n",
       "      <th>Price</th>\n",
       "    </tr>\n",
       "  </thead>\n",
       "  <tbody>\n",
       "    <tr>\n",
       "      <th>0</th>\n",
       "      <td>MSI</td>\n",
       "      <td>Business Laptop</td>\n",
       "      <td>17.040680</td>\n",
       "      <td>IPS Panel Retina Display 2560x1600</td>\n",
       "      <td>Intel Core i7</td>\n",
       "      <td>12GB</td>\n",
       "      <td>512GB SSD</td>\n",
       "      <td>Intel Iris Xe Graphics</td>\n",
       "      <td>Linux</td>\n",
       "      <td>2.064834</td>\n",
       "      <td>35844.099371</td>\n",
       "    </tr>\n",
       "    <tr>\n",
       "      <th>1</th>\n",
       "      <td>Chuwi</td>\n",
       "      <td>2 in 1 Convertible</td>\n",
       "      <td>16.542395</td>\n",
       "      <td>Full HD</td>\n",
       "      <td>Intel Core i5</td>\n",
       "      <td>12GB</td>\n",
       "      <td>128GB PCIe SSD</td>\n",
       "      <td>Intel Iris Xe Graphics</td>\n",
       "      <td>No OS</td>\n",
       "      <td>4.060656</td>\n",
       "      <td>37019.059051</td>\n",
       "    </tr>\n",
       "    <tr>\n",
       "      <th>2</th>\n",
       "      <td>hp</td>\n",
       "      <td>WorkStation</td>\n",
       "      <td>17.295294</td>\n",
       "      <td>Full HD</td>\n",
       "      <td>Intel Xeon E3-1505M</td>\n",
       "      <td>8GB</td>\n",
       "      <td>1TB HDD</td>\n",
       "      <td>Intel Iris Xe Graphics</td>\n",
       "      <td>Linux</td>\n",
       "      <td>2.901689</td>\n",
       "      <td>33329.360341</td>\n",
       "    </tr>\n",
       "    <tr>\n",
       "      <th>3</th>\n",
       "      <td>MSI</td>\n",
       "      <td>2 in 1 Convertible</td>\n",
       "      <td>11.526203</td>\n",
       "      <td>2K</td>\n",
       "      <td>Intel Core i7</td>\n",
       "      <td>16GB</td>\n",
       "      <td>512GB NVMe SSD</td>\n",
       "      <td>Intel Iris Xe Graphics</td>\n",
       "      <td>Windows 10</td>\n",
       "      <td>2.914843</td>\n",
       "      <td>68631.102486</td>\n",
       "    </tr>\n",
       "    <tr>\n",
       "      <th>4</th>\n",
       "      <td>Microsoft</td>\n",
       "      <td>Gaming</td>\n",
       "      <td>12.649634</td>\n",
       "      <td>Full HD</td>\n",
       "      <td>Intel Core i5</td>\n",
       "      <td>8GB</td>\n",
       "      <td>512GB SSD</td>\n",
       "      <td>AMD Radeon RX 5600M</td>\n",
       "      <td>Windows 10</td>\n",
       "      <td>4.341995</td>\n",
       "      <td>33842.479566</td>\n",
       "    </tr>\n",
       "  </tbody>\n",
       "</table>\n",
       "</div>"
      ],
      "text/plain": [
       "  CompanyName        TypeOfLaptop     Inches  \\\n",
       "0         MSI     Business Laptop  17.040680   \n",
       "1       Chuwi  2 in 1 Convertible  16.542395   \n",
       "2          hp         WorkStation  17.295294   \n",
       "3         MSI  2 in 1 Convertible  11.526203   \n",
       "4   Microsoft              Gaming  12.649634   \n",
       "\n",
       "                     ScreenResolution                   Cpu   Ram  \\\n",
       "0  IPS Panel Retina Display 2560x1600         Intel Core i7  12GB   \n",
       "1                             Full HD         Intel Core i5  12GB   \n",
       "2                             Full HD  Intel Xeon E3-1505M    8GB   \n",
       "3                                  2K         Intel Core i7  16GB   \n",
       "4                             Full HD         Intel Core i5   8GB   \n",
       "\n",
       "           Memory                     Gpu       OpSys    Weight         Price  \n",
       "0       512GB SSD  Intel Iris Xe Graphics       Linux  2.064834  35844.099371  \n",
       "1  128GB PCIe SSD  Intel Iris Xe Graphics       No OS  4.060656  37019.059051  \n",
       "2         1TB HDD  Intel Iris Xe Graphics       Linux  2.901689  33329.360341  \n",
       "3  512GB NVMe SSD  Intel Iris Xe Graphics  Windows 10  2.914843  68631.102486  \n",
       "4       512GB SSD     AMD Radeon RX 5600M  Windows 10  4.341995  33842.479566  "
      ]
     },
     "execution_count": 68,
     "metadata": {},
     "output_type": "execute_result"
    }
   ],
   "source": [
    "laptops_data.head()"
   ]
  },
  {
   "cell_type": "code",
   "execution_count": 48,
   "id": "95c51d49",
   "metadata": {},
   "outputs": [
    {
     "data": {
      "text/plain": [
       "CompanyName         0\n",
       "TypeOfLaptop        0\n",
       "Inches              0\n",
       "ScreenResolution    0\n",
       "Cpu                 0\n",
       "Ram                 0\n",
       "Memory              0\n",
       "Gpu                 0\n",
       "OpSys               0\n",
       "Weight              0\n",
       "Price               0\n",
       "dtype: int64"
      ]
     },
     "execution_count": 48,
     "metadata": {},
     "output_type": "execute_result"
    }
   ],
   "source": [
    "laptops_data.isnull().sum()"
   ]
  },
  {
   "cell_type": "code",
   "execution_count": 49,
   "id": "746c0834",
   "metadata": {},
   "outputs": [
    {
     "data": {
      "text/html": [
       "<div>\n",
       "<style scoped>\n",
       "    .dataframe tbody tr th:only-of-type {\n",
       "        vertical-align: middle;\n",
       "    }\n",
       "\n",
       "    .dataframe tbody tr th {\n",
       "        vertical-align: top;\n",
       "    }\n",
       "\n",
       "    .dataframe thead th {\n",
       "        text-align: right;\n",
       "    }\n",
       "</style>\n",
       "<table border=\"1\" class=\"dataframe\">\n",
       "  <thead>\n",
       "    <tr style=\"text-align: right;\">\n",
       "      <th></th>\n",
       "      <th>count</th>\n",
       "      <th>mean</th>\n",
       "      <th>std</th>\n",
       "      <th>min</th>\n",
       "      <th>25%</th>\n",
       "      <th>50%</th>\n",
       "      <th>75%</th>\n",
       "      <th>max</th>\n",
       "    </tr>\n",
       "  </thead>\n",
       "  <tbody>\n",
       "    <tr>\n",
       "      <th>Inches</th>\n",
       "      <td>1000.0</td>\n",
       "      <td>14.496646</td>\n",
       "      <td>2.066624</td>\n",
       "      <td>11.005842</td>\n",
       "      <td>12.677791</td>\n",
       "      <td>14.509298</td>\n",
       "      <td>16.313026</td>\n",
       "      <td>17.998786</td>\n",
       "    </tr>\n",
       "    <tr>\n",
       "      <th>Weight</th>\n",
       "      <td>1000.0</td>\n",
       "      <td>3.469800</td>\n",
       "      <td>0.857112</td>\n",
       "      <td>2.000819</td>\n",
       "      <td>2.720228</td>\n",
       "      <td>3.477824</td>\n",
       "      <td>4.189891</td>\n",
       "      <td>4.994556</td>\n",
       "    </tr>\n",
       "    <tr>\n",
       "      <th>Price</th>\n",
       "      <td>1000.0</td>\n",
       "      <td>51602.255339</td>\n",
       "      <td>13802.833231</td>\n",
       "      <td>30060.275100</td>\n",
       "      <td>40376.617670</td>\n",
       "      <td>50683.971717</td>\n",
       "      <td>61897.280126</td>\n",
       "      <td>115137.368077</td>\n",
       "    </tr>\n",
       "  </tbody>\n",
       "</table>\n",
       "</div>"
      ],
      "text/plain": [
       "         count          mean           std           min           25%  \\\n",
       "Inches  1000.0     14.496646      2.066624     11.005842     12.677791   \n",
       "Weight  1000.0      3.469800      0.857112      2.000819      2.720228   \n",
       "Price   1000.0  51602.255339  13802.833231  30060.275100  40376.617670   \n",
       "\n",
       "                 50%           75%            max  \n",
       "Inches     14.509298     16.313026      17.998786  \n",
       "Weight      3.477824      4.189891       4.994556  \n",
       "Price   50683.971717  61897.280126  115137.368077  "
      ]
     },
     "execution_count": 49,
     "metadata": {},
     "output_type": "execute_result"
    }
   ],
   "source": [
    "laptops_data.describe().T"
   ]
  },
  {
   "cell_type": "code",
   "execution_count": 50,
   "id": "67a588d3",
   "metadata": {},
   "outputs": [
    {
     "name": "stdout",
     "output_type": "stream",
     "text": [
      "Dimensions:  (1000, 11)\n",
      "\n",
      "<class 'pandas.core.frame.DataFrame'>\n",
      "RangeIndex: 1000 entries, 0 to 999\n",
      "Data columns (total 11 columns):\n",
      " #   Column            Non-Null Count  Dtype  \n",
      "---  ------            --------------  -----  \n",
      " 0   CompanyName       1000 non-null   object \n",
      " 1   TypeOfLaptop      1000 non-null   object \n",
      " 2   Inches            1000 non-null   float64\n",
      " 3   ScreenResolution  1000 non-null   object \n",
      " 4   Cpu               1000 non-null   object \n",
      " 5   Ram               1000 non-null   object \n",
      " 6   Memory            1000 non-null   object \n",
      " 7   Gpu               1000 non-null   object \n",
      " 8   OpSys             1000 non-null   object \n",
      " 9   Weight            1000 non-null   float64\n",
      " 10  Price             1000 non-null   float64\n",
      "dtypes: float64(3), object(8)\n",
      "memory usage: 86.1+ KB\n"
     ]
    },
    {
     "data": {
      "text/html": [
       "<div>\n",
       "<style scoped>\n",
       "    .dataframe tbody tr th:only-of-type {\n",
       "        vertical-align: middle;\n",
       "    }\n",
       "\n",
       "    .dataframe tbody tr th {\n",
       "        vertical-align: top;\n",
       "    }\n",
       "\n",
       "    .dataframe thead th {\n",
       "        text-align: right;\n",
       "    }\n",
       "</style>\n",
       "<table border=\"1\" class=\"dataframe\">\n",
       "  <thead>\n",
       "    <tr style=\"text-align: right;\">\n",
       "      <th></th>\n",
       "      <th>CompanyName</th>\n",
       "      <th>TypeOfLaptop</th>\n",
       "      <th>Inches</th>\n",
       "      <th>ScreenResolution</th>\n",
       "      <th>Cpu</th>\n",
       "      <th>Ram</th>\n",
       "      <th>Memory</th>\n",
       "      <th>Gpu</th>\n",
       "      <th>OpSys</th>\n",
       "      <th>Weight</th>\n",
       "      <th>Price</th>\n",
       "    </tr>\n",
       "  </thead>\n",
       "  <tbody>\n",
       "    <tr>\n",
       "      <th>0</th>\n",
       "      <td>MSI</td>\n",
       "      <td>Business Laptop</td>\n",
       "      <td>17.040680</td>\n",
       "      <td>IPS Panel Retina Display 2560x1600</td>\n",
       "      <td>Intel Core i7</td>\n",
       "      <td>12GB</td>\n",
       "      <td>512GB SSD</td>\n",
       "      <td>Intel Iris Xe Graphics</td>\n",
       "      <td>Linux</td>\n",
       "      <td>2.064834</td>\n",
       "      <td>35844.099371</td>\n",
       "    </tr>\n",
       "    <tr>\n",
       "      <th>1</th>\n",
       "      <td>Chuwi</td>\n",
       "      <td>2 in 1 Convertible</td>\n",
       "      <td>16.542395</td>\n",
       "      <td>Full HD</td>\n",
       "      <td>Intel Core i5</td>\n",
       "      <td>12GB</td>\n",
       "      <td>128GB PCIe SSD</td>\n",
       "      <td>Intel Iris Xe Graphics</td>\n",
       "      <td>No OS</td>\n",
       "      <td>4.060656</td>\n",
       "      <td>37019.059051</td>\n",
       "    </tr>\n",
       "    <tr>\n",
       "      <th>2</th>\n",
       "      <td>hp</td>\n",
       "      <td>WorkStation</td>\n",
       "      <td>17.295294</td>\n",
       "      <td>Full HD</td>\n",
       "      <td>Intel Xeon E3-1505M</td>\n",
       "      <td>8GB</td>\n",
       "      <td>1TB HDD</td>\n",
       "      <td>Intel Iris Xe Graphics</td>\n",
       "      <td>Linux</td>\n",
       "      <td>2.901689</td>\n",
       "      <td>33329.360341</td>\n",
       "    </tr>\n",
       "    <tr>\n",
       "      <th>3</th>\n",
       "      <td>MSI</td>\n",
       "      <td>2 in 1 Convertible</td>\n",
       "      <td>11.526203</td>\n",
       "      <td>2K</td>\n",
       "      <td>Intel Core i7</td>\n",
       "      <td>16GB</td>\n",
       "      <td>512GB NVMe SSD</td>\n",
       "      <td>Intel Iris Xe Graphics</td>\n",
       "      <td>Windows 10</td>\n",
       "      <td>2.914843</td>\n",
       "      <td>68631.102486</td>\n",
       "    </tr>\n",
       "    <tr>\n",
       "      <th>4</th>\n",
       "      <td>Microsoft</td>\n",
       "      <td>Gaming</td>\n",
       "      <td>12.649634</td>\n",
       "      <td>Full HD</td>\n",
       "      <td>Intel Core i5</td>\n",
       "      <td>8GB</td>\n",
       "      <td>512GB SSD</td>\n",
       "      <td>AMD Radeon RX 5600M</td>\n",
       "      <td>Windows 10</td>\n",
       "      <td>4.341995</td>\n",
       "      <td>33842.479566</td>\n",
       "    </tr>\n",
       "  </tbody>\n",
       "</table>\n",
       "</div>"
      ],
      "text/plain": [
       "  CompanyName        TypeOfLaptop     Inches  \\\n",
       "0         MSI     Business Laptop  17.040680   \n",
       "1       Chuwi  2 in 1 Convertible  16.542395   \n",
       "2          hp         WorkStation  17.295294   \n",
       "3         MSI  2 in 1 Convertible  11.526203   \n",
       "4   Microsoft              Gaming  12.649634   \n",
       "\n",
       "                     ScreenResolution                   Cpu   Ram  \\\n",
       "0  IPS Panel Retina Display 2560x1600         Intel Core i7  12GB   \n",
       "1                             Full HD         Intel Core i5  12GB   \n",
       "2                             Full HD  Intel Xeon E3-1505M    8GB   \n",
       "3                                  2K         Intel Core i7  16GB   \n",
       "4                             Full HD         Intel Core i5   8GB   \n",
       "\n",
       "           Memory                     Gpu       OpSys    Weight         Price  \n",
       "0       512GB SSD  Intel Iris Xe Graphics       Linux  2.064834  35844.099371  \n",
       "1  128GB PCIe SSD  Intel Iris Xe Graphics       No OS  4.060656  37019.059051  \n",
       "2         1TB HDD  Intel Iris Xe Graphics       Linux  2.901689  33329.360341  \n",
       "3  512GB NVMe SSD  Intel Iris Xe Graphics  Windows 10  2.914843  68631.102486  \n",
       "4       512GB SSD     AMD Radeon RX 5600M  Windows 10  4.341995  33842.479566  "
      ]
     },
     "execution_count": 50,
     "metadata": {},
     "output_type": "execute_result"
    }
   ],
   "source": [
    "print(\"Dimensions: \", laptops_data.shape)\n",
    "\n",
    "print()\n",
    "\n",
    "laptops_data.info()     \n",
    "\n",
    "laptops_data.head()"
   ]
  },
  {
   "cell_type": "code",
   "execution_count": 51,
   "id": "d64513ce",
   "metadata": {},
   "outputs": [
    {
     "data": {
      "text/plain": [
       "<Axes: xlabel='CompanyName', ylabel='count'>"
      ]
     },
     "execution_count": 51,
     "metadata": {},
     "output_type": "execute_result"
    },
    {
     "data": {
      "image/png": "[encoded data removed]",
      "text/plain": [
       "<Figure size 640x480 with 1 Axes>"
      ]
     },
     "metadata": {},
     "output_type": "display_data"
    }
   ],
   "source": [
    "sns.countplot(x = laptops_data[\"CompanyName\"])"
   ]
  },
  {
   "cell_type": "code",
   "execution_count": 52,
   "id": "af5716f4",
   "metadata": {},
   "outputs": [
    {
     "data": {
      "text/plain": [
       "<Axes: xlabel='TypeOfLaptop', ylabel='count'>"
      ]
     },
     "execution_count": 52,
     "metadata": {},
     "output_type": "execute_result"
    },
    {
     "data": {
      "image/png": "[encoded data removed]",
      "text/plain": [
       "<Figure size 640x480 with 1 Axes>"
      ]
     },
     "metadata": {},
     "output_type": "display_data"
    }
   ],
   "source": [
    "sns.countplot(x = laptops_data[\"TypeOfLaptop\"])"
   ]
  },
  {
   "cell_type": "code",
   "execution_count": 53,
   "id": "f65678d3",
   "metadata": {},
   "outputs": [
    {
     "data": {
      "image/png": "[encoded data removed]",
      "text/plain": [
       "<Figure size 800x800 with 1 Axes>"
      ]
     },
     "metadata": {},
     "output_type": "display_data"
    }
   ],
   "source": [
    "os_counts = laptops_data['OpSys'].value_counts()\n",
    "\n",
    "# Plot the distribution of OpSys\n",
    "plt.figure(figsize=(8, 8))\n",
    "plt.pie(os_counts, labels=os_counts.index, autopct='%1.1f%%', startangle=90, colors=sns.color_palette('pastel'))\n",
    "plt.title('Distribution of Operating Systems')\n",
    "plt.show()"
   ]
  },
  {
   "cell_type": "code",
   "execution_count": 54,
   "id": "241e56ad",
   "metadata": {},
   "outputs": [
    {
     "data": {
      "image/png": "[encoded data removed]",
      "text/plain": [
       "<Figure size 1200x600 with 1 Axes>"
      ]
     },
     "metadata": {},
     "output_type": "display_data"
    }
   ],
   "source": [
    "price_by_type = laptops_data.groupby('TypeOfLaptop')['Price'].agg(['mean', 'median'])\n",
    "\n",
    "plt.figure(figsize=(12, 6))\n",
    "sns.barplot(x=price_by_type.index, y=price_by_type['median'], palette='coolwarm')\n",
    "plt.title('Price Range by Type of Laptop')\n",
    "plt.xlabel('Type of Laptop')\n",
    "plt.ylabel('Median Price')\n",
    "plt.xticks(rotation=45, ha='right')\n",
    "plt.show()"
   ]
  },
  {
   "cell_type": "code",
   "execution_count": null,
   "id": "4be14d78",
   "metadata": {},
   "outputs": [],
   "source": []
  },
  {
   "cell_type": "code",
   "execution_count": 55,
   "id": "185ad36c",
   "metadata": {},
   "outputs": [
    {
     "data": {
      "text/plain": [
       "<Axes: xlabel='Price', ylabel='CompanyName'>"
      ]
     },
     "execution_count": 55,
     "metadata": {},
     "output_type": "execute_result"
    },
    {
     "data": {
      "image/png": "[encoded data removed]",
      "text/plain": [
       "<Figure size 500x500 with 1 Axes>"
      ]
     },
     "metadata": {},
     "output_type": "display_data"
    }
   ],
   "source": [
    "laptops_data.plot(kind='scatter', x='Price', y='CompanyName', figsize=(5,5))"
   ]
  },
  {
   "cell_type": "code",
   "execution_count": 56,
   "id": "4d751147",
   "metadata": {
    "scrolled": true
   },
   "outputs": [
    {
     "data": {
      "text/plain": [
       "TypeOfLaptop            2 in 1 Convertible\n",
       "Inches                           13.248184\n",
       "ScreenResolution                        2K\n",
       "Cpu                    Intel Atom x5-Z8550\n",
       "Ram                                    8GB\n",
       "Memory                 256GB Flash Storage\n",
       "Gpu                 Intel Iris Xe Graphics\n",
       "OpSys                                No OS\n",
       "Weight                            2.358343\n",
       "Price                         71431.635917\n",
       "Name: 56, dtype: object"
      ]
     },
     "execution_count": 56,
     "metadata": {},
     "output_type": "execute_result"
    }
   ],
   "source": [
    "laptops_data.iloc[56,1:]"
   ]
  },
  {
   "cell_type": "code",
   "execution_count": 71,
   "id": "792d1771",
   "metadata": {
    "scrolled": false
   },
   "outputs": [],
   "source": [
    "laptops_data_encoded = pd.get_dummies(laptops_data, columns=['TypeOfLaptop', 'Cpu', 'OpSys'], drop_first=True)"
   ]
  },
  {
   "cell_type": "code",
   "execution_count": 73,
   "id": "ded2fe7b",
   "metadata": {},
   "outputs": [],
   "source": [
    "# Convert 'Ram' to numeric\n",
    "laptops_data_encoded['Ram'] = laptops_data_encoded['Ram'].astype(str).str.extract('(\\d+)').astype(float, errors='ignore')\n",
    "\n",
    "# Convert 'Memory' to numeric (assuming you want to extract the numeric part)\n",
    "laptops_data_encoded['Memory'] = laptops_data_encoded['Memory'].astype(str).str.extract('(\\d+)').astype(float)\n",
    "# Assuming 'df_encoded' includes numerical features you want to normalize\n",
    "numerical_features = ['Inches', 'Ram', 'Weight', 'Price']  # Update this list\n",
    "\n",
    "# Create a StandardScaler object\n",
    "scaler = StandardScaler()\n",
    "\n",
    "# Fit and transform the numerical features\n",
    "laptops_data_encoded[numerical_features] = scaler.fit_transform(laptops_data_encoded[numerical_features])\n"
   ]
  },
  {
   "cell_type": "code",
   "execution_count": 75,
   "id": "b0a718ab",
   "metadata": {},
   "outputs": [
    {
     "name": "stdout",
     "output_type": "stream",
     "text": [
      "Training set - Features: (800, 37) Target: (800,)\n",
      "Testing set - Features: (200, 37) Target: (200,)\n"
     ]
    }
   ],
   "source": [
    "\n",
    "# Assuming 'df_encoded' is your preprocessed DataFrame\n",
    "# Define features (X) and target variable (y)\n",
    "X = laptops_data_encoded.drop('Price', axis=1)  # Features\n",
    "y = laptops_data_encoded['Price']  # Target variable\n",
    "\n",
    "# One-hot encode categorical variables\n",
    "X_encoded = pd.get_dummies(X, drop_first=True)\n",
    "# Split the data into training and testing sets (80% train, 20% test)\n",
    "X_train, X_test, y_train, y_test = train_test_split(X_encoded, y, test_size=0.2, random_state=42)\n",
    "\n",
    "# Print the shapes of the resulting sets\n",
    "print(\"Training set - Features:\", X_train.shape, \"Target:\", y_train.shape)\n",
    "print(\"Testing set - Features:\", X_test.shape, \"Target:\", y_test.shape)"
   ]
  },
  {
   "cell_type": "code",
   "execution_count": 76,
   "id": "8f495fef",
   "metadata": {},
   "outputs": [
    {
     "name": "stdout",
     "output_type": "stream",
     "text": [
      "                                              Feature  Importance\n",
      "1                                                 Ram    0.200572\n",
      "0                                              Inches    0.149746\n",
      "3                                              Weight    0.147025\n",
      "2                                              Memory    0.053895\n",
      "25                                   CompanyName_Dell    0.050299\n",
      "28                                     CompanyName_hp    0.032920\n",
      "21                                        OpSys_macOS    0.020785\n",
      "22                                  CompanyName_Apple    0.016827\n",
      "31                           ScreenResolution_Full HD    0.016081\n",
      "36                        Gpu_NVIDIA GeForce GTX 1650    0.015773\n",
      "30                                ScreenResolution_4K    0.015045\n",
      "4                        TypeOfLaptop_Business Laptop    0.014632\n",
      "35                         Gpu_Intel Iris Xe Graphics    0.013667\n",
      "18                                        OpSys_No OS    0.013575\n",
      "33  ScreenResolution_IPS Panel Full HD / Touchscre...    0.013511\n",
      "5                                 TypeOfLaptop_Gaming    0.013464\n",
      "8                            TypeOfLaptop_WorkStation    0.012840\n",
      "17                           Cpu_Intel Xeon E3-1505M     0.012724\n",
      "11                            Cpu_Intel Atom x5-Z8550    0.012408\n",
      "9                                     Cpu_AMD Ryzen 5    0.012010\n",
      "19                                   OpSys_Windows 10    0.011559\n",
      "6                               TypeOfLaptop_NoteBook    0.011378\n",
      "7                              TypeOfLaptop_UltraBook    0.011124\n",
      "34  ScreenResolution_IPS Panel Retina Display 2560...    0.010720\n",
      "32                     ScreenResolution_HD 1920x1080     0.010508\n",
      "26                                    CompanyName_MSI    0.010251\n",
      "27                              CompanyName_Microsoft    0.010244\n",
      "20                                   OpSys_Windows 11    0.009613\n",
      "12                 Cpu_Intel Celeron Dual Core 3855U     0.009298\n",
      "13                                  Cpu_Intel Core i5    0.008924\n",
      "24                                  CompanyName_Chuwi    0.008781\n",
      "23                                   CompanyName_Asus    0.008703\n",
      "10                                    Cpu_AMD Ryzen 7    0.008660\n",
      "16                  Cpu_Intel Pentium Quad Core N4200    0.008499\n",
      "15                                  Cpu_Intel Core i9    0.008077\n",
      "14                                  Cpu_Intel Core i7    0.007965\n",
      "29                                 CompanyName_lenevo    0.007893\n",
      "                                              Feature  Importance\n",
      "1                                                 Ram    0.200572\n",
      "0                                              Inches    0.149746\n",
      "3                                              Weight    0.147025\n",
      "2                                              Memory    0.053895\n",
      "25                                   CompanyName_Dell    0.050299\n",
      "28                                     CompanyName_hp    0.032920\n",
      "21                                        OpSys_macOS    0.020785\n",
      "22                                  CompanyName_Apple    0.016827\n",
      "31                           ScreenResolution_Full HD    0.016081\n",
      "36                        Gpu_NVIDIA GeForce GTX 1650    0.015773\n",
      "30                                ScreenResolution_4K    0.015045\n",
      "4                        TypeOfLaptop_Business Laptop    0.014632\n",
      "35                         Gpu_Intel Iris Xe Graphics    0.013667\n",
      "18                                        OpSys_No OS    0.013575\n",
      "33  ScreenResolution_IPS Panel Full HD / Touchscre...    0.013511\n",
      "5                                 TypeOfLaptop_Gaming    0.013464\n",
      "8                            TypeOfLaptop_WorkStation    0.012840\n",
      "17                           Cpu_Intel Xeon E3-1505M     0.012724\n",
      "11                            Cpu_Intel Atom x5-Z8550    0.012408\n",
      "9                                     Cpu_AMD Ryzen 5    0.012010\n",
      "19                                   OpSys_Windows 10    0.011559\n",
      "6                               TypeOfLaptop_NoteBook    0.011378\n",
      "7                              TypeOfLaptop_UltraBook    0.011124\n",
      "34  ScreenResolution_IPS Panel Retina Display 2560...    0.010720\n",
      "32                     ScreenResolution_HD 1920x1080     0.010508\n",
      "26                                    CompanyName_MSI    0.010251\n",
      "27                              CompanyName_Microsoft    0.010244\n",
      "20                                   OpSys_Windows 11    0.009613\n",
      "12                 Cpu_Intel Celeron Dual Core 3855U     0.009298\n",
      "13                                  Cpu_Intel Core i5    0.008924\n",
      "24                                  CompanyName_Chuwi    0.008781\n",
      "23                                   CompanyName_Asus    0.008703\n",
      "10                                    Cpu_AMD Ryzen 7    0.008660\n",
      "16                  Cpu_Intel Pentium Quad Core N4200    0.008499\n",
      "15                                  Cpu_Intel Core i9    0.008077\n",
      "14                                  Cpu_Intel Core i7    0.007965\n",
      "29                                 CompanyName_lenevo    0.007893\n"
     ]
    }
   ],
   "source": [
    "#Assuming 'X_train' and 'y_train' are your training data\n",
    "model = RandomForestRegressor(random_state=42)\n",
    "model.fit(X_train, y_train)\n",
    "\n",
    "# Calculate feature importances\n",
    "feature_importance = pd.DataFrame({'Feature': X_train.columns, 'Importance': model.feature_importances_})\n",
    "feature_importance = feature_importance.sort_values(by='Importance', ascending=False)\n",
    "print(feature_importance)\n",
    "print(feature_importance)"
   ]
  },
  {
   "cell_type": "code",
   "execution_count": 78,
   "id": "8364e45a",
   "metadata": {},
   "outputs": [
    {
     "name": "stdout",
     "output_type": "stream",
     "text": [
      "          Inches       Ram    Memory    Weight     Price\n",
      "Inches  1.000000 -0.014286 -0.072276  0.037982 -0.012535\n",
      "Ram    -0.014286  1.000000  0.011465 -0.039935  0.063615\n",
      "Memory -0.072276  0.011465  1.000000 -0.023323  0.060936\n",
      "Weight  0.037982 -0.039935 -0.023323  1.000000 -0.024256\n",
      "Price  -0.012535  0.063615  0.060936 -0.024256  1.000000\n"
     ]
    }
   ],
   "source": [
    "# Select only numeric columns\n",
    "numeric_columns = laptops_data_encoded.select_dtypes(include=['number'])\n",
    "\n",
    "# Calculate the correlation matrix\n",
    "correlation_matrix = numeric_columns.corr()\n",
    "\n",
    "# Print the correlation matrix\n",
    "print(correlation_matrix)"
   ]
  },
  {
   "cell_type": "code",
   "execution_count": 79,
   "id": "0e9f924c",
   "metadata": {},
   "outputs": [],
   "source": [
    "# Assuming 'X_train' and 'y_train' are your training data\n",
    "model = LinearRegression()\n",
    "rfe = RFE(model, n_features_to_select=1)\n",
    "X_train_rfe = rfe.fit_transform(X_train, y_train)\n"
   ]
  },
  {
   "cell_type": "code",
   "execution_count": 80,
   "id": "79d7aa03",
   "metadata": {},
   "outputs": [
    {
     "name": "stdout",
     "output_type": "stream",
     "text": [
      "[9.99805886e-01 2.87024462e-05 2.68657359e-05 2.65425173e-05\n",
      " 9.19152264e-06 6.11876572e-06 5.87569613e-06 5.35830622e-06\n",
      " 5.19050646e-06 5.10303374e-06 4.95805716e-06 4.82772375e-06\n",
      " 4.65495304e-06 4.50089078e-06 4.38255418e-06 3.88824972e-06\n",
      " 3.60326582e-06 3.42062573e-06 3.31533068e-06 3.11931026e-06\n",
      " 3.05995729e-06 2.96846656e-06 2.92949680e-06 2.71063064e-06\n",
      " 2.67087335e-06 2.64987292e-06 2.60060774e-06 2.56871050e-06\n",
      " 2.45975854e-06 2.38536868e-06 2.27378511e-06 2.15097757e-06\n",
      " 1.04911337e-06 7.54533206e-07 7.04973491e-07 3.06307204e-07\n",
      " 2.51164304e-07]\n"
     ]
    }
   ],
   "source": [
    "# Assuming 'X_train' is your training data\n",
    "pca = PCA(n_components=len(X_train.columns))\n",
    "X_train_pca = pca.fit_transform(X_train)\n",
    "\n",
    "# Get the explained variance ratio for each component\n",
    "explained_variance_ratio = pca.explained_variance_ratio_\n",
    "print(explained_variance_ratio)\n"
   ]
  },
  {
   "cell_type": "code",
   "execution_count": 81,
   "id": "70d9ebed",
   "metadata": {},
   "outputs": [
    {
     "name": "stdout",
     "output_type": "stream",
     "text": [
      "LinearRegression: Mean MSE: 0.9731589953901428\n",
      "DecisionTreeRegressor: Mean MSE: 1.466912942031452\n",
      "RandomForestRegressor: Mean MSE: 0.8117912334385557\n",
      "GradientBoostingRegressor: Mean MSE: 0.8699491081893086\n",
      "SVR: Mean MSE: 1.0010309461884157\n",
      "Test MSE for the best model: 0.8883650246543651\n"
     ]
    }
   ],
   "source": [
    "# List of models\n",
    "models = [\n",
    "    LinearRegression(),\n",
    "    DecisionTreeRegressor(random_state=42),\n",
    "    RandomForestRegressor(random_state=42),\n",
    "    GradientBoostingRegressor(random_state=42),\n",
    "    SVR()\n",
    "]\n",
    "\n",
    "# Evaluate models using cross-validation\n",
    "for model in models:\n",
    "    scores = cross_val_score(model, X_train, y_train, scoring='neg_mean_squared_error', cv=5)\n",
    "    print(f\"{model.__class__.__name__}: Mean MSE: {np.mean(-scores)}\")\n",
    "\n",
    "# Train and evaluate the best-performing model on the test set\n",
    "best_model = RandomForestRegressor(random_state=42)\n",
    "best_model.fit(X_train, y_train)\n",
    "test_predictions = best_model.predict(X_test)\n",
    "test_mse = mean_squared_error(y_test, test_predictions)\n",
    "print(f\"Test MSE for the best model: {test_mse}\")\n"
   ]
  },
  {
   "cell_type": "code",
   "execution_count": 82,
   "id": "a81e4683",
   "metadata": {},
   "outputs": [
    {
     "name": "stdout",
     "output_type": "stream",
     "text": [
      "Test MSE for the best model: 0.8883650246543651\n"
     ]
    },
    {
     "data": {
      "application/vnd.plotly.v1+json": {
       "config": {
        "plotlyServerURL": "https://plot.ly"
       },
       "data": [
        {
         "hovertemplate": "Actual=%{x}<br>Predicted=%{y}<extra></extra>",
         "legendgroup": "",
         "marker": {
          "color": "#636efa",
          "symbol": "circle"
         },
         "mode": "markers",
         "name": "",
         "orientation": "v",
         "showlegend": false,
         "type": "scatter",
         "x": [
          0.06526419923233473,
          0.2062217220616007,
          -1.2365787769435375,
          -1.032915669983169,
          0.45770470900862004,
          -1.0204055694136613,
          -1.1247613930515223,
          1.1271172546538373,
          1.3040418812432615,
          -1.457189751526599,
          -0.13082257315243442,
          1.1765153678916065,
          1.2162085639970133,
          -0.17552653354657424,
          -1.4160797040487094,
          0.5152916410744567,
          -1.1983316371580846,
          3.31902083092946,
          0.1741700717592131,
          0.907016344423828,
          -0.30991745007159477,
          -0.4446751692534827,
          1.29459389523118,
          -0.16404825871846523,
          -1.2954746745165064,
          -1.0387875438564815,
          -0.11181030604792931,
          -0.3309045374563262,
          -0.8439084954240658,
          -0.6948949692654164,
          -0.5444142842362004,
          0.11633141171959376,
          -0.9877961026663526,
          0.9247479401065406,
          -0.2252627910527924,
          -1.0959908787998225,
          3.3493990887935063,
          -0.3930437802663877,
          -1.330682461945254,
          -0.8811689107599671,
          0.6235379632164225,
          0.8501720121532472,
          -0.07248772350972028,
          -0.9203193208779954,
          0.7985376440670194,
          0.3204940887937631,
          0.20535487809673317,
          0.7212961078598533,
          -1.0655050619120945,
          -0.4072201447342517,
          1.0136481931859314,
          1.027382194013716,
          -0.3363161257928593,
          -0.08938333377419055,
          2.11628608645206,
          0.1548396580411964,
          -0.9283577806468591,
          -0.49395605808266574,
          2.3398336523946335,
          -0.7933475794556872,
          -1.4297520341283831,
          0.5746486899274138,
          0.20324546229514084,
          -0.6829438765445205,
          -1.4934863918289583,
          1.011372171610695,
          -0.8148898797721787,
          -1.3608227735023597,
          0.7924746420170077,
          -1.217469782561069,
          -0.02888017746508159,
          0.9673417690953016,
          2.693664428333695,
          -1.388272596284586,
          0.7820463414179543,
          -1.2921269978006948,
          0.5801225074949695,
          -0.463116381288628,
          0.35979363405743875,
          -0.25454543240558825,
          -0.18919747904155718,
          -0.7194044341129806,
          -0.41255606993928967,
          0.591521737872639,
          -1.3556841724245476,
          1.3019767143644896,
          0.5309028312370786,
          -1.0246936100135806,
          0.25152530797923217,
          1.2765142163129826,
          4.605351892284034,
          -0.8393680470587109,
          0.8033835085211896,
          -1.471864873637185,
          0.9029607453278996,
          -1.1677768952658698,
          -1.1203085492131037,
          -0.3113270231526405,
          -1.5045065470168153,
          -1.3397434403054762,
          0.9351133905097312,
          -1.1920516642670482,
          -0.32862537969646793,
          0.342689379807485,
          0.573294877798976,
          0.2991391749740169,
          1.0281475818114563,
          0.468442129187578,
          1.2876203363116738,
          -0.43175407107706654,
          0.08348361565473088,
          0.1722866604087826,
          0.8822754840624786,
          1.1938780639325042,
          0.6780817598272626,
          1.331846211169565,
          -0.46163861384754495,
          0.5946836760758675,
          1.0301969514750025,
          0.6648145238098817,
          0.062405478361973965,
          -0.4004866361040651,
          -0.6304098541036837,
          -0.44943796469223873,
          0.5459126454355697,
          -0.6638409645605684,
          0.3573095212084068,
          -1.531133537078544,
          0.050698661837438375,
          -0.7230554665674513,
          -0.3084752869216963,
          -0.7602302081830319,
          0.6770681933268666,
          -0.8225412853195191,
          1.0351851264125265,
          2.964830767673623,
          0.7882730201005439,
          0.5418961722845868,
          -1.5137386824740349,
          1.0987149493752129,
          -0.1013419225467148,
          0.7590163250901023,
          0.33954587638548384,
          -0.9846419048743003,
          -0.9443875770286141,
          1.1168144033631302,
          -0.6632866278110775,
          0.39921669857144876,
          -0.7896253069475733,
          -0.6495575946771921,
          -1.4060859891894348,
          2.600482632570503,
          -0.8092149322245976,
          1.1502544123837926,
          -0.25394363003705234,
          0.6370148070944731,
          -1.3612143625023172,
          0.9938625318279382,
          1.201196848818423,
          1.0854015165533235,
          1.0316548030696144,
          -0.8556224625192208,
          1.0227915484770225,
          -0.2112938034890881,
          0.18250734053668033,
          -0.6733425829191941,
          0.11051755847727372,
          0.7003605379535582,
          0.6282634248777753,
          0.01675343957103708,
          -0.4446836345605148,
          -0.26231444217665073,
          0.16492300735109433,
          -0.1594714904004671,
          0.4101772270866591,
          -0.13763689174025398,
          -0.4847533845031525,
          0.32751279991397975,
          0.5080441947947015,
          -1.029072639375842,
          -1.1808833479115042,
          -0.18022802331733417,
          -1.180015357580873,
          0.41305618848427605,
          -0.876392298067668,
          0.7900808245341654,
          1.1176528552147693,
          -1.542837583055866,
          1.2612700825370953,
          0.18649314649327633,
          -0.683632295275482,
          -1.5230564970741154,
          0.9878819087873808,
          -1.560006412224115,
          0.26954856833801827,
          -0.3507058609912999,
          0.5276741314264072,
          -0.990988250387041,
          0.4357186717014225,
          -0.8372863595764773
         ],
         "xaxis": "x",
         "y": [
          -0.6049421663276673,
          -0.22125628400874853,
          -0.24170424778340494,
          0.748406810360411,
          -0.20451827120252683,
          -0.46417435070663116,
          -0.004680453012840427,
          -0.32248401434249807,
          -0.07373087268979316,
          0.33997753506054423,
          -0.08172456839096891,
          0.3257606706977381,
          -0.24518820710891023,
          -0.25377606262204644,
          -0.055608112950213756,
          -0.2926922998785513,
          0.264754441760286,
          2.164970495959248,
          0.13734295107379024,
          0.3428990004800997,
          -0.34619059509923167,
          0.02537281759910026,
          -0.48362342772660755,
          -0.3585935545760215,
          0.11532697491106492,
          -0.02260611652230148,
          0.08992187274648207,
          -0.061275667727664976,
          -0.38152555033592583,
          0.04168957315994573,
          -0.4664716476051224,
          0.45074610875821475,
          -0.3337663745871349,
          -0.14053434859846298,
          -0.23413713365915306,
          -0.43295776866537095,
          2.3024103263500137,
          -0.3930380491185911,
          -0.1695221272293644,
          -0.17627275895989952,
          0.1214209718791086,
          -0.5200482208463988,
          0.28206955816953183,
          -0.13536077390916487,
          -0.40260911077329503,
          0.4750721390903045,
          -0.12820431803250923,
          0.40001000692266514,
          -0.07909101757457498,
          -0.41248313237535705,
          -0.3733540754037984,
          -0.45655475936491885,
          -0.25461799457575496,
          0.02388750840521046,
          1.888746463601833,
          0.037237715430930456,
          -0.46214368225636193,
          -0.11888680515198369,
          2.3348053676372267,
          -0.31461429700989346,
          -0.13532427331809815,
          -0.31512553846961794,
          -0.1663836826355836,
          -0.3040147617457905,
          0.4463506437242301,
          -0.22796791236030536,
          0.13412992167380478,
          0.4218731717234925,
          0.08818405570015413,
          -0.07667840795555347,
          -0.07493756568448194,
          -0.22907406539981223,
          1.079010176382434,
          -0.39858790297570423,
          -0.17956816764502168,
          0.07448585164634958,
          -0.19475713322241517,
          0.4114685089527811,
          -0.2557061222414371,
          -0.04921257849339474,
          -0.4152580129504947,
          0.31158056377457816,
          -0.005751522910229963,
          -0.31252786898416923,
          0.1029190576948693,
          -0.35902494713196026,
          -0.2709172790397736,
          -0.37831618887242874,
          -0.46666626877035583,
          -0.31701455931329714,
          0.4392150228108769,
          0.49688358051352277,
          -0.1850533740370429,
          0.196613040064742,
          -0.2705740885323501,
          -0.2484693948889698,
          0.2903092312442106,
          -0.5069373664295161,
          -0.2532304242983917,
          -0.6023265322703749,
          -0.04209422552898535,
          -0.4477722242965099,
          -0.5339545943331752,
          0.17189053906124144,
          -0.23581260480960511,
          -0.05910433463266555,
          -0.18778374221311342,
          -0.4871901247197316,
          -0.257245599328294,
          0.28475694535592455,
          -0.3490481666411745,
          -0.09730332008154206,
          -0.1422992263977805,
          0.18304187186173124,
          -0.33428001265605056,
          1.4231930028268693,
          0.16381319930435864,
          -0.4424323028045588,
          -0.0013068149848192933,
          -0.2528287979105339,
          0.04486928735082083,
          -0.3642971445712449,
          -0.02524326047382607,
          -0.0709960785314767,
          -0.21467485008044324,
          -0.285056664943219,
          0.006227046226521122,
          0.21460362161132962,
          -0.19408198837078416,
          0.09550119264643048,
          -0.25418180089418113,
          0.05166614225005477,
          -0.004743006572958344,
          -0.21113125310992223,
          -0.09411311215528372,
          2.4187869293784767,
          -0.17799253283403185,
          -0.019593747644501582,
          0.2885672303249823,
          -0.10093357688714567,
          -0.28307878793492663,
          -0.04732537376170649,
          -0.1934358003036925,
          -0.013653689467188288,
          -0.10456510352425147,
          -0.17556467833646838,
          0.22729043526949508,
          -0.4211834104409715,
          0.2738769587164907,
          -0.5174130929313333,
          -0.3075541362990329,
          1.5299407648934507,
          -0.25133109879019566,
          -0.09867799614350538,
          0.26988061053280776,
          0.21753534265004115,
          -0.049374417660132626,
          0.27967664986514723,
          0.34452873910660403,
          0.16197995250455763,
          -0.22183929389258988,
          0.06391772028134514,
          -0.23897612718295058,
          -0.08400533098074044,
          -0.18619990144724782,
          -0.10436949632244426,
          0.028842325326607476,
          -0.3102877912030304,
          0.27796938816255046,
          0.3691959923751291,
          -0.1892672913986119,
          -0.3881590730789312,
          -0.17123387269750784,
          -0.2378118452137574,
          -0.13019927934972406,
          -0.2667549600795013,
          -0.09880664413226019,
          -0.3377219623026469,
          -0.316906322103712,
          -0.2285488435013255,
          -0.2843409435401279,
          0.11197421939862422,
          0.2748898229656966,
          -0.5068389664378036,
          -0.05884650173061212,
          -0.2697164451922084,
          0.47055311971240066,
          -0.22973860018927295,
          0.11860733550475397,
          -0.22566090925951865,
          -0.09347171848904305,
          -0.3288732003584523,
          -0.47906286236858536,
          -0.4703115807587833,
          -0.02569869195439155,
          -0.1713071231095463,
          -0.19913702546452647,
          -0.4289456857823575,
          0.047152319598740854,
          -0.29146332994723234
         ],
         "yaxis": "y"
        }
       ],
       "layout": {
        "legend": {
         "tracegroupgap": 0
        },
        "template": {
         "data": {
          "bar": [
           {
            "error_x": {
             "color": "#2a3f5f"
            },
            "error_y": {
             "color": "#2a3f5f"
            },
            "marker": {
             "line": {
              "color": "#E5ECF6",
              "width": 0.5
             },
             "pattern": {
              "fillmode": "overlay",
              "size": 10,
              "solidity": 0.2
             }
            },
            "type": "bar"
           }
          ],
          "barpolar": [
           {
            "marker": {
             "line": {
              "color": "#E5ECF6",
              "width": 0.5
             },
             "pattern": {
              "fillmode": "overlay",
              "size": 10,
              "solidity": 0.2
             }
            },
            "type": "barpolar"
           }
          ],
          "carpet": [
           {
            "aaxis": {
             "endlinecolor": "#2a3f5f",
             "gridcolor": "white",
             "linecolor": "white",
             "minorgridcolor": "white",
             "startlinecolor": "#2a3f5f"
            },
            "baxis": {
             "endlinecolor": "#2a3f5f",
             "gridcolor": "white",
             "linecolor": "white",
             "minorgridcolor": "white",
             "startlinecolor": "#2a3f5f"
            },
            "type": "carpet"
           }
          ],
          "choropleth": [
           {
            "colorbar": {
             "outlinewidth": 0,
             "ticks": ""
            },
            "type": "choropleth"
           }
          ],
          "contour": [
           {
            "colorbar": {
             "outlinewidth": 0,
             "ticks": ""
            },
            "colorscale": [
             [
              0,
              "#0d0887"
             ],
             [
              0.1111111111111111,
              "#46039f"
             ],
             [
              0.2222222222222222,
              "#7201a8"
             ],
             [
              0.3333333333333333,
              "#9c179e"
             ],
             [
              0.4444444444444444,
              "#bd3786"
             ],
             [
              0.5555555555555556,
              "#d8576b"
             ],
             [
              0.6666666666666666,
              "#ed7953"
             ],
             [
              0.7777777777777778,
              "#fb9f3a"
             ],
             [
              0.8888888888888888,
              "#fdca26"
             ],
             [
              1,
              "#f0f921"
             ]
            ],
            "type": "contour"
           }
          ],
          "contourcarpet": [
           {
            "colorbar": {
             "outlinewidth": 0,
             "ticks": ""
            },
            "type": "contourcarpet"
           }
          ],
          "heatmap": [
           {
            "colorbar": {
             "outlinewidth": 0,
             "ticks": ""
            },
            "colorscale": [
             [
              0,
              "#0d0887"
             ],
             [
              0.1111111111111111,
              "#46039f"
             ],
             [
              0.2222222222222222,
              "#7201a8"
             ],
             [
              0.3333333333333333,
              "#9c179e"
             ],
             [
              0.4444444444444444,
              "#bd3786"
             ],
             [
              0.5555555555555556,
              "#d8576b"
             ],
             [
              0.6666666666666666,
              "#ed7953"
             ],
             [
              0.7777777777777778,
              "#fb9f3a"
             ],
             [
              0.8888888888888888,
              "#fdca26"
             ],
             [
              1,
              "#f0f921"
             ]
            ],
            "type": "heatmap"
           }
          ],
          "heatmapgl": [
           {
            "colorbar": {
             "outlinewidth": 0,
             "ticks": ""
            },
            "colorscale": [
             [
              0,
              "#0d0887"
             ],
             [
              0.1111111111111111,
              "#46039f"
             ],
             [
              0.2222222222222222,
              "#7201a8"
             ],
             [
              0.3333333333333333,
              "#9c179e"
             ],
             [
              0.4444444444444444,
              "#bd3786"
             ],
             [
              0.5555555555555556,
              "#d8576b"
             ],
             [
              0.6666666666666666,
              "#ed7953"
             ],
             [
              0.7777777777777778,
              "#fb9f3a"
             ],
             [
              0.8888888888888888,
              "#fdca26"
             ],
             [
              1,
              "#f0f921"
             ]
            ],
            "type": "heatmapgl"
           }
          ],
          "histogram": [
           {
            "marker": {
             "pattern": {
              "fillmode": "overlay",
              "size": 10,
              "solidity": 0.2
             }
            },
            "type": "histogram"
           }
          ],
          "histogram2d": [
           {
            "colorbar": {
             "outlinewidth": 0,
             "ticks": ""
            },
            "colorscale": [
             [
              0,
              "#0d0887"
             ],
             [
              0.1111111111111111,
              "#46039f"
             ],
             [
              0.2222222222222222,
              "#7201a8"
             ],
             [
              0.3333333333333333,
              "#9c179e"
             ],
             [
              0.4444444444444444,
              "#bd3786"
             ],
             [
              0.5555555555555556,
              "#d8576b"
             ],
             [
              0.6666666666666666,
              "#ed7953"
             ],
             [
              0.7777777777777778,
              "#fb9f3a"
             ],
             [
              0.8888888888888888,
              "#fdca26"
             ],
             [
              1,
              "#f0f921"
             ]
            ],
            "type": "histogram2d"
           }
          ],
          "histogram2dcontour": [
           {
            "colorbar": {
             "outlinewidth": 0,
             "ticks": ""
            },
            "colorscale": [
             [
              0,
              "#0d0887"
             ],
             [
              0.1111111111111111,
              "#46039f"
             ],
             [
              0.2222222222222222,
              "#7201a8"
             ],
             [
              0.3333333333333333,
              "#9c179e"
             ],
             [
              0.4444444444444444,
              "#bd3786"
             ],
             [
              0.5555555555555556,
              "#d8576b"
             ],
             [
              0.6666666666666666,
              "#ed7953"
             ],
             [
              0.7777777777777778,
              "#fb9f3a"
             ],
             [
              0.8888888888888888,
              "#fdca26"
             ],
             [
              1,
              "#f0f921"
             ]
            ],
            "type": "histogram2dcontour"
           }
          ],
          "mesh3d": [
           {
            "colorbar": {
             "outlinewidth": 0,
             "ticks": ""
            },
            "type": "mesh3d"
           }
          ],
          "parcoords": [
           {
            "line": {
             "colorbar": {
              "outlinewidth": 0,
              "ticks": ""
             }
            },
            "type": "parcoords"
           }
          ],
          "pie": [
           {
            "automargin": true,
            "type": "pie"
           }
          ],
          "scatter": [
           {
            "fillpattern": {
             "fillmode": "overlay",
             "size": 10,
             "solidity": 0.2
            },
            "type": "scatter"
           }
          ],
          "scatter3d": [
           {
            "line": {
             "colorbar": {
              "outlinewidth": 0,
              "ticks": ""
             }
            },
            "marker": {
             "colorbar": {
              "outlinewidth": 0,
              "ticks": ""
             }
            },
            "type": "scatter3d"
           }
          ],
          "scattercarpet": [
           {
            "marker": {
             "colorbar": {
              "outlinewidth": 0,
              "ticks": ""
             }
            },
            "type": "scattercarpet"
           }
          ],
          "scattergeo": [
           {
            "marker": {
             "colorbar": {
              "outlinewidth": 0,
              "ticks": ""
             }
            },
            "type": "scattergeo"
           }
          ],
          "scattergl": [
           {
            "marker": {
             "colorbar": {
              "outlinewidth": 0,
              "ticks": ""
             }
            },
            "type": "scattergl"
           }
          ],
          "scattermapbox": [
           {
            "marker": {
             "colorbar": {
              "outlinewidth": 0,
              "ticks": ""
             }
            },
            "type": "scattermapbox"
           }
          ],
          "scatterpolar": [
           {
            "marker": {
             "colorbar": {
              "outlinewidth": 0,
              "ticks": ""
             }
            },
            "type": "scatterpolar"
           }
          ],
          "scatterpolargl": [
           {
            "marker": {
             "colorbar": {
              "outlinewidth": 0,
              "ticks": ""
             }
            },
            "type": "scatterpolargl"
           }
          ],
          "scatterternary": [
           {
            "marker": {
             "colorbar": {
              "outlinewidth": 0,
              "ticks": ""
             }
            },
            "type": "scatterternary"
           }
          ],
          "surface": [
           {
            "colorbar": {
             "outlinewidth": 0,
             "ticks": ""
            },
            "colorscale": [
             [
              0,
              "#0d0887"
             ],
             [
              0.1111111111111111,
              "#46039f"
             ],
             [
              0.2222222222222222,
              "#7201a8"
             ],
             [
              0.3333333333333333,
              "#9c179e"
             ],
             [
              0.4444444444444444,
              "#bd3786"
             ],
             [
              0.5555555555555556,
              "#d8576b"
             ],
             [
              0.6666666666666666,
              "#ed7953"
             ],
             [
              0.7777777777777778,
              "#fb9f3a"
             ],
             [
              0.8888888888888888,
              "#fdca26"
             ],
             [
              1,
              "#f0f921"
             ]
            ],
            "type": "surface"
           }
          ],
          "table": [
           {
            "cells": {
             "fill": {
              "color": "#EBF0F8"
             },
             "line": {
              "color": "white"
             }
            },
            "header": {
             "fill": {
              "color": "#C8D4E3"
             },
             "line": {
              "color": "white"
             }
            },
            "type": "table"
           }
          ]
         },
         "layout": {
          "annotationdefaults": {
           "arrowcolor": "#2a3f5f",
           "arrowhead": 0,
           "arrowwidth": 1
          },
          "autotypenumbers": "strict",
          "coloraxis": {
           "colorbar": {
            "outlinewidth": 0,
            "ticks": ""
           }
          },
          "colorscale": {
           "diverging": [
            [
             0,
             "#8e0152"
            ],
            [
             0.1,
             "#c51b7d"
            ],
            [
             0.2,
             "#de77ae"
            ],
            [
             0.3,
             "#f1b6da"
            ],
            [
             0.4,
             "#fde0ef"
            ],
            [
             0.5,
             "#f7f7f7"
            ],
            [
             0.6,
             "#e6f5d0"
            ],
            [
             0.7,
             "#b8e186"
            ],
            [
             0.8,
             "#7fbc41"
            ],
            [
             0.9,
             "#4d9221"
            ],
            [
             1,
             "#276419"
            ]
           ],
           "sequential": [
            [
             0,
             "#0d0887"
            ],
            [
             0.1111111111111111,
             "#46039f"
            ],
            [
             0.2222222222222222,
             "#7201a8"
            ],
            [
             0.3333333333333333,
             "#9c179e"
            ],
            [
             0.4444444444444444,
             "#bd3786"
            ],
            [
             0.5555555555555556,
             "#d8576b"
            ],
            [
             0.6666666666666666,
             "#ed7953"
            ],
            [
             0.7777777777777778,
             "#fb9f3a"
            ],
            [
             0.8888888888888888,
             "#fdca26"
            ],
            [
             1,
             "#f0f921"
            ]
           ],
           "sequentialminus": [
            [
             0,
             "#0d0887"
            ],
            [
             0.1111111111111111,
             "#46039f"
            ],
            [
             0.2222222222222222,
             "#7201a8"
            ],
            [
             0.3333333333333333,
             "#9c179e"
            ],
            [
             0.4444444444444444,
             "#bd3786"
            ],
            [
             0.5555555555555556,
             "#d8576b"
            ],
            [
             0.6666666666666666,
             "#ed7953"
            ],
            [
             0.7777777777777778,
             "#fb9f3a"
            ],
            [
             0.8888888888888888,
             "#fdca26"
            ],
            [
             1,
             "#f0f921"
            ]
           ]
          },
          "colorway": [
           "#636efa",
           "#EF553B",
           "#00cc96",
           "#ab63fa",
           "#FFA15A",
           "#19d3f3",
           "#FF6692",
           "#B6E880",
           "#FF97FF",
           "#FECB52"
          ],
          "font": {
           "color": "#2a3f5f"
          },
          "geo": {
           "bgcolor": "white",
           "lakecolor": "white",
           "landcolor": "#E5ECF6",
           "showlakes": true,
           "showland": true,
           "subunitcolor": "white"
          },
          "hoverlabel": {
           "align": "left"
          },
          "hovermode": "closest",
          "mapbox": {
           "style": "light"
          },
          "paper_bgcolor": "white",
          "plot_bgcolor": "#E5ECF6",
          "polar": {
           "angularaxis": {
            "gridcolor": "white",
            "linecolor": "white",
            "ticks": ""
           },
           "bgcolor": "#E5ECF6",
           "radialaxis": {
            "gridcolor": "white",
            "linecolor": "white",
            "ticks": ""
           }
          },
          "scene": {
           "xaxis": {
            "backgroundcolor": "#E5ECF6",
            "gridcolor": "white",
            "gridwidth": 2,
            "linecolor": "white",
            "showbackground": true,
            "ticks": "",
            "zerolinecolor": "white"
           },
           "yaxis": {
            "backgroundcolor": "#E5ECF6",
            "gridcolor": "white",
            "gridwidth": 2,
            "linecolor": "white",
            "showbackground": true,
            "ticks": "",
            "zerolinecolor": "white"
           },
           "zaxis": {
            "backgroundcolor": "#E5ECF6",
            "gridcolor": "white",
            "gridwidth": 2,
            "linecolor": "white",
            "showbackground": true,
            "ticks": "",
            "zerolinecolor": "white"
           }
          },
          "shapedefaults": {
           "line": {
            "color": "#2a3f5f"
           }
          },
          "ternary": {
           "aaxis": {
            "gridcolor": "white",
            "linecolor": "white",
            "ticks": ""
           },
           "baxis": {
            "gridcolor": "white",
            "linecolor": "white",
            "ticks": ""
           },
           "bgcolor": "#E5ECF6",
           "caxis": {
            "gridcolor": "white",
            "linecolor": "white",
            "ticks": ""
           }
          },
          "title": {
           "x": 0.05
          },
          "xaxis": {
           "automargin": true,
           "gridcolor": "white",
           "linecolor": "white",
           "ticks": "",
           "title": {
            "standoff": 15
           },
           "zerolinecolor": "white",
           "zerolinewidth": 2
          },
          "yaxis": {
           "automargin": true,
           "gridcolor": "white",
           "linecolor": "white",
           "ticks": "",
           "title": {
            "standoff": 15
           },
           "zerolinecolor": "white",
           "zerolinewidth": 2
          }
         }
        },
        "title": {
         "text": "Actual vs Predicted Prices"
        },
        "xaxis": {
         "anchor": "y",
         "domain": [
          0,
          1
         ],
         "title": {
          "text": "Actual Prices"
         }
        },
        "yaxis": {
         "anchor": "x",
         "domain": [
          0,
          1
         ],
         "title": {
          "text": "Predicted Prices"
         }
        }
       }
      },
      "text/html": [
       "<div>                            <div id=\"9310d780-1434-4d1e-879f-459cc0cbce07\" class=\"plotly-graph-div\" style=\"height:525px; width:100%;\"></div>            <script type=\"text/javascript\">                require([\"plotly\"], function(Plotly) {                    window.PLOTLYENV=window.PLOTLYENV || {};                                    if (document.getElementById(\"9310d780-1434-4d1e-879f-459cc0cbce07\")) {                    Plotly.newPlot(                        \"9310d780-1434-4d1e-879f-459cc0cbce07\",                        [{\"hovertemplate\":\"Actual=%{x}<br>Predicted=%{y}<extra></extra>\",\"legendgroup\":\"\",\"marker\":{\"color\":\"#636efa\",\"symbol\":\"circle\"},\"mode\":\"markers\",\"name\":\"\",\"orientation\":\"v\",\"showlegend\":false,\"x\":[0.06526419923233473,0.2062217220616007,-1.2365787769435375,-1.032915669983169,0.45770470900862004,-1.0204055694136613,-1.1247613930515223,1.1271172546538373,1.3040418812432615,-1.457189751526599,-0.13082257315243442,1.1765153678916065,1.2162085639970133,-0.17552653354657424,-1.4160797040487094,0.5152916410744567,-1.1983316371580846,3.31902083092946,0.1741700717592131,0.907016344423828,-0.30991745007159477,-0.4446751692534827,1.29459389523118,-0.16404825871846523,-1.2954746745165064,-1.0387875438564815,-0.11181030604792931,-0.3309045374563262,-0.8439084954240658,-0.6948949692654164,-0.5444142842362004,0.11633141171959376,-0.9877961026663526,0.9247479401065406,-0.2252627910527924,-1.0959908787998225,3.3493990887935063,-0.3930437802663877,-1.330682461945254,-0.8811689107599671,0.6235379632164225,0.8501720121532472,-0.07248772350972028,-0.9203193208779954,0.7985376440670194,0.3204940887937631,0.20535487809673317,0.7212961078598533,-1.0655050619120945,-0.4072201447342517,1.0136481931859314,1.027382194013716,-0.3363161257928593,-0.08938333377419055,2.11628608645206,0.1548396580411964,-0.9283577806468591,-0.49395605808266574,2.3398336523946335,-0.7933475794556872,-1.4297520341283831,0.5746486899274138,0.20324546229514084,-0.6829438765445205,-1.4934863918289583,1.011372171610695,-0.8148898797721787,-1.3608227735023597,0.7924746420170077,-1.217469782561069,-0.02888017746508159,0.9673417690953016,2.693664428333695,-1.388272596284586,0.7820463414179543,-1.2921269978006948,0.5801225074949695,-0.463116381288628,0.35979363405743875,-0.25454543240558825,-0.18919747904155718,-0.7194044341129806,-0.41255606993928967,0.591521737872639,-1.3556841724245476,1.3019767143644896,0.5309028312370786,-1.0246936100135806,0.25152530797923217,1.2765142163129826,4.605351892284034,-0.8393680470587109,0.8033835085211896,-1.471864873637185,0.9029607453278996,-1.1677768952658698,-1.1203085492131037,-0.3113270231526405,-1.5045065470168153,-1.3397434403054762,0.9351133905097312,-1.1920516642670482,-0.32862537969646793,0.342689379807485,0.573294877798976,0.2991391749740169,1.0281475818114563,0.468442129187578,1.2876203363116738,-0.43175407107706654,0.08348361565473088,0.1722866604087826,0.8822754840624786,1.1938780639325042,0.6780817598272626,1.331846211169565,-0.46163861384754495,0.5946836760758675,1.0301969514750025,0.6648145238098817,0.062405478361973965,-0.4004866361040651,-0.6304098541036837,-0.44943796469223873,0.5459126454355697,-0.6638409645605684,0.3573095212084068,-1.531133537078544,0.050698661837438375,-0.7230554665674513,-0.3084752869216963,-0.7602302081830319,0.6770681933268666,-0.8225412853195191,1.0351851264125265,2.964830767673623,0.7882730201005439,0.5418961722845868,-1.5137386824740349,1.0987149493752129,-0.1013419225467148,0.7590163250901023,0.33954587638548384,-0.9846419048743003,-0.9443875770286141,1.1168144033631302,-0.6632866278110775,0.39921669857144876,-0.7896253069475733,-0.6495575946771921,-1.4060859891894348,2.600482632570503,-0.8092149322245976,1.1502544123837926,-0.25394363003705234,0.6370148070944731,-1.3612143625023172,0.9938625318279382,1.201196848818423,1.0854015165533235,1.0316548030696144,-0.8556224625192208,1.0227915484770225,-0.2112938034890881,0.18250734053668033,-0.6733425829191941,0.11051755847727372,0.7003605379535582,0.6282634248777753,0.01675343957103708,-0.4446836345605148,-0.26231444217665073,0.16492300735109433,-0.1594714904004671,0.4101772270866591,-0.13763689174025398,-0.4847533845031525,0.32751279991397975,0.5080441947947015,-1.029072639375842,-1.1808833479115042,-0.18022802331733417,-1.180015357580873,0.41305618848427605,-0.876392298067668,0.7900808245341654,1.1176528552147693,-1.542837583055866,1.2612700825370953,0.18649314649327633,-0.683632295275482,-1.5230564970741154,0.9878819087873808,-1.560006412224115,0.26954856833801827,-0.3507058609912999,0.5276741314264072,-0.990988250387041,0.4357186717014225,-0.8372863595764773],\"xaxis\":\"x\",\"y\":[-0.6049421663276673,-0.22125628400874853,-0.24170424778340494,0.748406810360411,-0.20451827120252683,-0.46417435070663116,-0.004680453012840427,-0.32248401434249807,-0.07373087268979316,0.33997753506054423,-0.08172456839096891,0.3257606706977381,-0.24518820710891023,-0.25377606262204644,-0.055608112950213756,-0.2926922998785513,0.264754441760286,2.164970495959248,0.13734295107379024,0.3428990004800997,-0.34619059509923167,0.02537281759910026,-0.48362342772660755,-0.3585935545760215,0.11532697491106492,-0.02260611652230148,0.08992187274648207,-0.061275667727664976,-0.38152555033592583,0.04168957315994573,-0.4664716476051224,0.45074610875821475,-0.3337663745871349,-0.14053434859846298,-0.23413713365915306,-0.43295776866537095,2.3024103263500137,-0.3930380491185911,-0.1695221272293644,-0.17627275895989952,0.1214209718791086,-0.5200482208463988,0.28206955816953183,-0.13536077390916487,-0.40260911077329503,0.4750721390903045,-0.12820431803250923,0.40001000692266514,-0.07909101757457498,-0.41248313237535705,-0.3733540754037984,-0.45655475936491885,-0.25461799457575496,0.02388750840521046,1.888746463601833,0.037237715430930456,-0.46214368225636193,-0.11888680515198369,2.3348053676372267,-0.31461429700989346,-0.13532427331809815,-0.31512553846961794,-0.1663836826355836,-0.3040147617457905,0.4463506437242301,-0.22796791236030536,0.13412992167380478,0.4218731717234925,0.08818405570015413,-0.07667840795555347,-0.07493756568448194,-0.22907406539981223,1.079010176382434,-0.39858790297570423,-0.17956816764502168,0.07448585164634958,-0.19475713322241517,0.4114685089527811,-0.2557061222414371,-0.04921257849339474,-0.4152580129504947,0.31158056377457816,-0.005751522910229963,-0.31252786898416923,0.1029190576948693,-0.35902494713196026,-0.2709172790397736,-0.37831618887242874,-0.46666626877035583,-0.31701455931329714,0.4392150228108769,0.49688358051352277,-0.1850533740370429,0.196613040064742,-0.2705740885323501,-0.2484693948889698,0.2903092312442106,-0.5069373664295161,-0.2532304242983917,-0.6023265322703749,-0.04209422552898535,-0.4477722242965099,-0.5339545943331752,0.17189053906124144,-0.23581260480960511,-0.05910433463266555,-0.18778374221311342,-0.4871901247197316,-0.257245599328294,0.28475694535592455,-0.3490481666411745,-0.09730332008154206,-0.1422992263977805,0.18304187186173124,-0.33428001265605056,1.4231930028268693,0.16381319930435864,-0.4424323028045588,-0.0013068149848192933,-0.2528287979105339,0.04486928735082083,-0.3642971445712449,-0.02524326047382607,-0.0709960785314767,-0.21467485008044324,-0.285056664943219,0.006227046226521122,0.21460362161132962,-0.19408198837078416,0.09550119264643048,-0.25418180089418113,0.05166614225005477,-0.004743006572958344,-0.21113125310992223,-0.09411311215528372,2.4187869293784767,-0.17799253283403185,-0.019593747644501582,0.2885672303249823,-0.10093357688714567,-0.28307878793492663,-0.04732537376170649,-0.1934358003036925,-0.013653689467188288,-0.10456510352425147,-0.17556467833646838,0.22729043526949508,-0.4211834104409715,0.2738769587164907,-0.5174130929313333,-0.3075541362990329,1.5299407648934507,-0.25133109879019566,-0.09867799614350538,0.26988061053280776,0.21753534265004115,-0.049374417660132626,0.27967664986514723,0.34452873910660403,0.16197995250455763,-0.22183929389258988,0.06391772028134514,-0.23897612718295058,-0.08400533098074044,-0.18619990144724782,-0.10436949632244426,0.028842325326607476,-0.3102877912030304,0.27796938816255046,0.3691959923751291,-0.1892672913986119,-0.3881590730789312,-0.17123387269750784,-0.2378118452137574,-0.13019927934972406,-0.2667549600795013,-0.09880664413226019,-0.3377219623026469,-0.316906322103712,-0.2285488435013255,-0.2843409435401279,0.11197421939862422,0.2748898229656966,-0.5068389664378036,-0.05884650173061212,-0.2697164451922084,0.47055311971240066,-0.22973860018927295,0.11860733550475397,-0.22566090925951865,-0.09347171848904305,-0.3288732003584523,-0.47906286236858536,-0.4703115807587833,-0.02569869195439155,-0.1713071231095463,-0.19913702546452647,-0.4289456857823575,0.047152319598740854,-0.29146332994723234],\"yaxis\":\"y\",\"type\":\"scatter\"}],                        {\"template\":{\"data\":{\"histogram2dcontour\":[{\"type\":\"histogram2dcontour\",\"colorbar\":{\"outlinewidth\":0,\"ticks\":\"\"},\"colorscale\":[[0.0,\"#0d0887\"],[0.1111111111111111,\"#46039f\"],[0.2222222222222222,\"#7201a8\"],[0.3333333333333333,\"#9c179e\"],[0.4444444444444444,\"#bd3786\"],[0.5555555555555556,\"#d8576b\"],[0.6666666666666666,\"#ed7953\"],[0.7777777777777778,\"#fb9f3a\"],[0.8888888888888888,\"#fdca26\"],[1.0,\"#f0f921\"]]}],\"choropleth\":[{\"type\":\"choropleth\",\"colorbar\":{\"outlinewidth\":0,\"ticks\":\"\"}}],\"histogram2d\":[{\"type\":\"histogram2d\",\"colorbar\":{\"outlinewidth\":0,\"ticks\":\"\"},\"colorscale\":[[0.0,\"#0d0887\"],[0.1111111111111111,\"#46039f\"],[0.2222222222222222,\"#7201a8\"],[0.3333333333333333,\"#9c179e\"],[0.4444444444444444,\"#bd3786\"],[0.5555555555555556,\"#d8576b\"],[0.6666666666666666,\"#ed7953\"],[0.7777777777777778,\"#fb9f3a\"],[0.8888888888888888,\"#fdca26\"],[1.0,\"#f0f921\"]]}],\"heatmap\":[{\"type\":\"heatmap\",\"colorbar\":{\"outlinewidth\":0,\"ticks\":\"\"},\"colorscale\":[[0.0,\"#0d0887\"],[0.1111111111111111,\"#46039f\"],[0.2222222222222222,\"#7201a8\"],[0.3333333333333333,\"#9c179e\"],[0.4444444444444444,\"#bd3786\"],[0.5555555555555556,\"#d8576b\"],[0.6666666666666666,\"#ed7953\"],[0.7777777777777778,\"#fb9f3a\"],[0.8888888888888888,\"#fdca26\"],[1.0,\"#f0f921\"]]}],\"heatmapgl\":[{\"type\":\"heatmapgl\",\"colorbar\":{\"outlinewidth\":0,\"ticks\":\"\"},\"colorscale\":[[0.0,\"#0d0887\"],[0.1111111111111111,\"#46039f\"],[0.2222222222222222,\"#7201a8\"],[0.3333333333333333,\"#9c179e\"],[0.4444444444444444,\"#bd3786\"],[0.5555555555555556,\"#d8576b\"],[0.6666666666666666,\"#ed7953\"],[0.7777777777777778,\"#fb9f3a\"],[0.8888888888888888,\"#fdca26\"],[1.0,\"#f0f921\"]]}],\"contourcarpet\":[{\"type\":\"contourcarpet\",\"colorbar\":{\"outlinewidth\":0,\"ticks\":\"\"}}],\"contour\":[{\"type\":\"contour\",\"colorbar\":{\"outlinewidth\":0,\"ticks\":\"\"},\"colorscale\":[[0.0,\"#0d0887\"],[0.1111111111111111,\"#46039f\"],[0.2222222222222222,\"#7201a8\"],[0.3333333333333333,\"#9c179e\"],[0.4444444444444444,\"#bd3786\"],[0.5555555555555556,\"#d8576b\"],[0.6666666666666666,\"#ed7953\"],[0.7777777777777778,\"#fb9f3a\"],[0.8888888888888888,\"#fdca26\"],[1.0,\"#f0f921\"]]}],\"surface\":[{\"type\":\"surface\",\"colorbar\":{\"outlinewidth\":0,\"ticks\":\"\"},\"colorscale\":[[0.0,\"#0d0887\"],[0.1111111111111111,\"#46039f\"],[0.2222222222222222,\"#7201a8\"],[0.3333333333333333,\"#9c179e\"],[0.4444444444444444,\"#bd3786\"],[0.5555555555555556,\"#d8576b\"],[0.6666666666666666,\"#ed7953\"],[0.7777777777777778,\"#fb9f3a\"],[0.8888888888888888,\"#fdca26\"],[1.0,\"#f0f921\"]]}],\"mesh3d\":[{\"type\":\"mesh3d\",\"colorbar\":{\"outlinewidth\":0,\"ticks\":\"\"}}],\"scatter\":[{\"fillpattern\":{\"fillmode\":\"overlay\",\"size\":10,\"solidity\":0.2},\"type\":\"scatter\"}],\"parcoords\":[{\"type\":\"parcoords\",\"line\":{\"colorbar\":{\"outlinewidth\":0,\"ticks\":\"\"}}}],\"scatterpolargl\":[{\"type\":\"scatterpolargl\",\"marker\":{\"colorbar\":{\"outlinewidth\":0,\"ticks\":\"\"}}}],\"bar\":[{\"error_x\":{\"color\":\"#2a3f5f\"},\"error_y\":{\"color\":\"#2a3f5f\"},\"marker\":{\"line\":{\"color\":\"#E5ECF6\",\"width\":0.5},\"pattern\":{\"fillmode\":\"overlay\",\"size\":10,\"solidity\":0.2}},\"type\":\"bar\"}],\"scattergeo\":[{\"type\":\"scattergeo\",\"marker\":{\"colorbar\":{\"outlinewidth\":0,\"ticks\":\"\"}}}],\"scatterpolar\":[{\"type\":\"scatterpolar\",\"marker\":{\"colorbar\":{\"outlinewidth\":0,\"ticks\":\"\"}}}],\"histogram\":[{\"marker\":{\"pattern\":{\"fillmode\":\"overlay\",\"size\":10,\"solidity\":0.2}},\"type\":\"histogram\"}],\"scattergl\":[{\"type\":\"scattergl\",\"marker\":{\"colorbar\":{\"outlinewidth\":0,\"ticks\":\"\"}}}],\"scatter3d\":[{\"type\":\"scatter3d\",\"line\":{\"colorbar\":{\"outlinewidth\":0,\"ticks\":\"\"}},\"marker\":{\"colorbar\":{\"outlinewidth\":0,\"ticks\":\"\"}}}],\"scattermapbox\":[{\"type\":\"scattermapbox\",\"marker\":{\"colorbar\":{\"outlinewidth\":0,\"ticks\":\"\"}}}],\"scatterternary\":[{\"type\":\"scatterternary\",\"marker\":{\"colorbar\":{\"outlinewidth\":0,\"ticks\":\"\"}}}],\"scattercarpet\":[{\"type\":\"scattercarpet\",\"marker\":{\"colorbar\":{\"outlinewidth\":0,\"ticks\":\"\"}}}],\"carpet\":[{\"aaxis\":{\"endlinecolor\":\"#2a3f5f\",\"gridcolor\":\"white\",\"linecolor\":\"white\",\"minorgridcolor\":\"white\",\"startlinecolor\":\"#2a3f5f\"},\"baxis\":{\"endlinecolor\":\"#2a3f5f\",\"gridcolor\":\"white\",\"linecolor\":\"white\",\"minorgridcolor\":\"white\",\"startlinecolor\":\"#2a3f5f\"},\"type\":\"carpet\"}],\"table\":[{\"cells\":{\"fill\":{\"color\":\"#EBF0F8\"},\"line\":{\"color\":\"white\"}},\"header\":{\"fill\":{\"color\":\"#C8D4E3\"},\"line\":{\"color\":\"white\"}},\"type\":\"table\"}],\"barpolar\":[{\"marker\":{\"line\":{\"color\":\"#E5ECF6\",\"width\":0.5},\"pattern\":{\"fillmode\":\"overlay\",\"size\":10,\"solidity\":0.2}},\"type\":\"barpolar\"}],\"pie\":[{\"automargin\":true,\"type\":\"pie\"}]},\"layout\":{\"autotypenumbers\":\"strict\",\"colorway\":[\"#636efa\",\"#EF553B\",\"#00cc96\",\"#ab63fa\",\"#FFA15A\",\"#19d3f3\",\"#FF6692\",\"#B6E880\",\"#FF97FF\",\"#FECB52\"],\"font\":{\"color\":\"#2a3f5f\"},\"hovermode\":\"closest\",\"hoverlabel\":{\"align\":\"left\"},\"paper_bgcolor\":\"white\",\"plot_bgcolor\":\"#E5ECF6\",\"polar\":{\"bgcolor\":\"#E5ECF6\",\"angularaxis\":{\"gridcolor\":\"white\",\"linecolor\":\"white\",\"ticks\":\"\"},\"radialaxis\":{\"gridcolor\":\"white\",\"linecolor\":\"white\",\"ticks\":\"\"}},\"ternary\":{\"bgcolor\":\"#E5ECF6\",\"aaxis\":{\"gridcolor\":\"white\",\"linecolor\":\"white\",\"ticks\":\"\"},\"baxis\":{\"gridcolor\":\"white\",\"linecolor\":\"white\",\"ticks\":\"\"},\"caxis\":{\"gridcolor\":\"white\",\"linecolor\":\"white\",\"ticks\":\"\"}},\"coloraxis\":{\"colorbar\":{\"outlinewidth\":0,\"ticks\":\"\"}},\"colorscale\":{\"sequential\":[[0.0,\"#0d0887\"],[0.1111111111111111,\"#46039f\"],[0.2222222222222222,\"#7201a8\"],[0.3333333333333333,\"#9c179e\"],[0.4444444444444444,\"#bd3786\"],[0.5555555555555556,\"#d8576b\"],[0.6666666666666666,\"#ed7953\"],[0.7777777777777778,\"#fb9f3a\"],[0.8888888888888888,\"#fdca26\"],[1.0,\"#f0f921\"]],\"sequentialminus\":[[0.0,\"#0d0887\"],[0.1111111111111111,\"#46039f\"],[0.2222222222222222,\"#7201a8\"],[0.3333333333333333,\"#9c179e\"],[0.4444444444444444,\"#bd3786\"],[0.5555555555555556,\"#d8576b\"],[0.6666666666666666,\"#ed7953\"],[0.7777777777777778,\"#fb9f3a\"],[0.8888888888888888,\"#fdca26\"],[1.0,\"#f0f921\"]],\"diverging\":[[0,\"#8e0152\"],[0.1,\"#c51b7d\"],[0.2,\"#de77ae\"],[0.3,\"#f1b6da\"],[0.4,\"#fde0ef\"],[0.5,\"#f7f7f7\"],[0.6,\"#e6f5d0\"],[0.7,\"#b8e186\"],[0.8,\"#7fbc41\"],[0.9,\"#4d9221\"],[1,\"#276419\"]]},\"xaxis\":{\"gridcolor\":\"white\",\"linecolor\":\"white\",\"ticks\":\"\",\"title\":{\"standoff\":15},\"zerolinecolor\":\"white\",\"automargin\":true,\"zerolinewidth\":2},\"yaxis\":{\"gridcolor\":\"white\",\"linecolor\":\"white\",\"ticks\":\"\",\"title\":{\"standoff\":15},\"zerolinecolor\":\"white\",\"automargin\":true,\"zerolinewidth\":2},\"scene\":{\"xaxis\":{\"backgroundcolor\":\"#E5ECF6\",\"gridcolor\":\"white\",\"linecolor\":\"white\",\"showbackground\":true,\"ticks\":\"\",\"zerolinecolor\":\"white\",\"gridwidth\":2},\"yaxis\":{\"backgroundcolor\":\"#E5ECF6\",\"gridcolor\":\"white\",\"linecolor\":\"white\",\"showbackground\":true,\"ticks\":\"\",\"zerolinecolor\":\"white\",\"gridwidth\":2},\"zaxis\":{\"backgroundcolor\":\"#E5ECF6\",\"gridcolor\":\"white\",\"linecolor\":\"white\",\"showbackground\":true,\"ticks\":\"\",\"zerolinecolor\":\"white\",\"gridwidth\":2}},\"shapedefaults\":{\"line\":{\"color\":\"#2a3f5f\"}},\"annotationdefaults\":{\"arrowcolor\":\"#2a3f5f\",\"arrowhead\":0,\"arrowwidth\":1},\"geo\":{\"bgcolor\":\"white\",\"landcolor\":\"#E5ECF6\",\"subunitcolor\":\"white\",\"showland\":true,\"showlakes\":true,\"lakecolor\":\"white\"},\"title\":{\"x\":0.05},\"mapbox\":{\"style\":\"light\"}}},\"xaxis\":{\"anchor\":\"y\",\"domain\":[0.0,1.0],\"title\":{\"text\":\"Actual Prices\"}},\"yaxis\":{\"anchor\":\"x\",\"domain\":[0.0,1.0],\"title\":{\"text\":\"Predicted Prices\"}},\"legend\":{\"tracegroupgap\":0},\"title\":{\"text\":\"Actual vs Predicted Prices\"}},                        {\"responsive\": true}                    ).then(function(){\n",
       "                            \n",
       "var gd = document.getElementById('9310d780-1434-4d1e-879f-459cc0cbce07');\n",
       "var x = new MutationObserver(function (mutations, observer) {{\n",
       "        var display = window.getComputedStyle(gd).display;\n",
       "        if (!display || display === 'none') {{\n",
       "            console.log([gd, 'removed!']);\n",
       "            Plotly.purge(gd);\n",
       "            observer.disconnect();\n",
       "        }}\n",
       "}});\n",
       "\n",
       "// Listen for the removal of the full notebook cells\n",
       "var notebookContainer = gd.closest('#notebook-container');\n",
       "if (notebookContainer) {{\n",
       "    x.observe(notebookContainer, {childList: true});\n",
       "}}\n",
       "\n",
       "// Listen for the clearing of the current output cell\n",
       "var outputEl = gd.closest('.output');\n",
       "if (outputEl) {{\n",
       "    x.observe(outputEl, {childList: true});\n",
       "}}\n",
       "\n",
       "                        })                };                });            </script>        </div>"
      ]
     },
     "metadata": {},
     "output_type": "display_data"
    }
   ],
   "source": [
    "\n",
    "# Instantiate the Random Forest Regressor with the best hyperparameters\n",
    "best_model = RandomForestRegressor(random_state=42)\n",
    "\n",
    "# Train the model using the entire training dataset\n",
    "best_model.fit(X_train, y_train)\n",
    "\n",
    "# Make predictions on the test set\n",
    "test_predictions = best_model.predict(X_test)\n",
    "\n",
    "# Evaluate the performance on the test set\n",
    "test_mse = mean_squared_error(y_test, test_predictions)\n",
    "print(f\"Test MSE for the best model: {test_mse}\")\n",
    "\n",
    "\n",
    "# Create a DataFrame to hold actual and predicted prices\n",
    "results_df = pd.DataFrame({'Actual': y_test, 'Predicted': test_predictions})\n",
    "\n",
    "# Create a scatter plot\n",
    "fig = px.scatter(results_df, x='Actual', y='Predicted', title='Actual vs Predicted Prices')\n",
    "fig.update_layout(xaxis_title='Actual Prices', yaxis_title='Predicted Prices')\n",
    "fig.show()"
   ]
  },
  {
   "cell_type": "code",
   "execution_count": null,
   "id": "66ee1443",
   "metadata": {},
   "outputs": [],
   "source": []
  }
 ],
 "metadata": {
  "kernelspec": {
   "display_name": "Python 3 (ipykernel)",
   "language": "python",
   "name": "python3"
  },
  "language_info": {
   "codemirror_mode": {
    "name": "ipython",
    "version": 3
   },
   "file_extension": ".py",
   "mimetype": "text/x-python",
   "name": "python",
   "nbconvert_exporter": "python",
   "pygments_lexer": "ipython3",
   "version": "3.11.5"
  }
 },
 "nbformat": 4,
 "nbformat_minor": 5
}
